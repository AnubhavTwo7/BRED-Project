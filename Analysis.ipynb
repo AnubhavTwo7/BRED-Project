{
 "cells": [
  {
   "cell_type": "markdown",
   "metadata": {},
   "source": [
    "Importing Libraries\n"
   ]
  },
  {
   "cell_type": "code",
   "execution_count": 9,
   "metadata": {},
   "outputs": [],
   "source": [
    "import pandas as pd\n",
    "import numpy as np\n",
    "import matplotlib.pyplot as plt\n",
    "import seaborn as sns\n"
   ]
  },
  {
   "cell_type": "markdown",
   "metadata": {},
   "source": [
    "Import Data"
   ]
  },
  {
   "cell_type": "code",
   "execution_count": 10,
   "metadata": {},
   "outputs": [
    {
     "name": "stdout",
     "output_type": "stream",
     "text": [
      "                    Name  \\\n",
      "0            Aditya Nair   \n",
      "1       Pradhuman Tiwari   \n",
      "2                Vivek R   \n",
      "3         Nikhil Chandak   \n",
      "4         Nikhil Agrawal   \n",
      "5       Sarthak Aggarwal   \n",
      "6          Aryan SInghal   \n",
      "7             Mitul Garg   \n",
      "8                  Aryan   \n",
      "9        Aarnav Nagariya   \n",
      "10           Karthikeya    \n",
      "11           Agrim Rawat   \n",
      "12   Atharv sujlegaonkar   \n",
      "13             Tejah S S   \n",
      "14                 Rohan   \n",
      "15          Sankalp Bhat   \n",
      "16         Shavak Kansal   \n",
      "17                 Tarun   \n",
      "18       Aniketh Parkala   \n",
      "19  Gnaneswar Kulindala    \n",
      "20              Siddhant   \n",
      "21          Eswara Rohan   \n",
      "22       Vaibhav Agarwal   \n",
      "23         Ishanya Sethi   \n",
      "24     sumanth vuddagiri   \n",
      "25     Siddharth Mavani    \n",
      "26                 Parth   \n",
      "27           Revanth Sai   \n",
      "\n",
      "    Number of hours spent playing video games(in a week)  \\\n",
      "0                                                   2      \n",
      "1                                                   0      \n",
      "2                                                  10      \n",
      "3                                                   0      \n",
      "4                                                   1      \n",
      "5                                                   2      \n",
      "6                                                  25      \n",
      "7                                                  10      \n",
      "8                                                  10      \n",
      "9                                                  40      \n",
      "10                                                  4      \n",
      "11                                                 20      \n",
      "12                                                  0      \n",
      "13                                                 25      \n",
      "14                                                 16      \n",
      "15                                                  1      \n",
      "16                                                 20      \n",
      "17                                                  0      \n",
      "18                                                 12      \n",
      "19                                                  9      \n",
      "20                                                 40      \n",
      "21                                                  0      \n",
      "22                                                  0      \n",
      "23                                                  7      \n",
      "24                                                  0      \n",
      "25                                                  0      \n",
      "26                                                  2      \n",
      "27                                                  3      \n",
      "\n",
      "    Number of hours spent playing sports(in a week)  \n",
      "0                                               0.0  \n",
      "1                                              15.0  \n",
      "2                                              10.0  \n",
      "3                                               3.0  \n",
      "4                                               3.5  \n",
      "5                                               2.0  \n",
      "6                                               0.0  \n",
      "7                                               1.0  \n",
      "8                                               7.0  \n",
      "9                                              10.0  \n",
      "10                                             10.0  \n",
      "11                                              8.0  \n",
      "12                                              7.0  \n",
      "13                                              0.0  \n",
      "14                                              5.0  \n",
      "15                                              1.0  \n",
      "16                                              2.0  \n",
      "17                                              2.0  \n",
      "18                                              0.0  \n",
      "19                                              4.0  \n",
      "20                                              5.0  \n",
      "21                                              0.0  \n",
      "22                                              0.0  \n",
      "23                                             14.0  \n",
      "24                                              1.0  \n",
      "25                                             13.5  \n",
      "26                                              2.0  \n",
      "27                                              5.0  \n"
     ]
    }
   ],
   "source": [
    "Data = pd.read_csv('BRED (Responses) - Form Responses 1.csv')\n",
    "Class_Data =  Data.iloc[:,[1,6,8]]\n",
    "#class_Data =  Data.iloc[:,1].append(Data.iloc[:,6]).append(Data.iloc[:,8])\n",
    "Stroop_Data = Data.iloc[:,19:22]\n",
    "Aiming_Data = Data.iloc[:,22:25]\n",
    "Tracking_Data = Data.iloc[:,25:29]\n",
    "Stroop_Data = Stroop_Data.astype(float)\n",
    "Aiming_Data = Aiming_Data.astype(float)\n",
    "Tracking_Data = Tracking_Data.astype(float)\n",
    "\n",
    "print((Class_Data))\n",
    "#print(Stroop_Data)\n",
    "# print(Aiming_Data)"
   ]
  },
  {
   "cell_type": "markdown",
   "metadata": {},
   "source": [
    "Separating into classes"
   ]
  },
  {
   "cell_type": "code",
   "execution_count": 11,
   "metadata": {},
   "outputs": [
    {
     "name": "stdout",
     "output_type": "stream",
     "text": [
      "28\n",
      "12\n",
      "7\n",
      "4\n",
      "5\n"
     ]
    }
   ],
   "source": [
    "# Class = np.array([[]])\n",
    "# for i in range(0,Class_Data.shape[0]):\n",
    "    # if Class_Data.iloc[i,0] == 'B':\n",
    "        # Class[i,0] = 1\n",
    "    # else:\n",
    "        # Class_Data.iloc[i,0] = 0\n",
    "# nair - 0\n",
    "#pradh - 2\n",
    "# Vivek - 3\n",
    "# NikhilA - 0\n",
    "# NikhilB - 0\n",
    "# Sarthak - 0\n",
    "# aryanS - 1\n",
    "#Mitul - 0\n",
    "#ARyanB - 3\n",
    "#Arnav - 3\n",
    "# KNV - 2\n",
    "# Agrim - 3\n",
    "#Sujji -2\n",
    "# Tejah -1\n",
    "# ROhan - 1\n",
    "# Sankalp -0\n",
    "# SK - 1\n",
    "# Tarun -0 \n",
    "# Aniket - 1\n",
    "# Gnan - 1\n",
    "#ShinChan -1\n",
    "#EshRohan - 0\n",
    "# Vaibhav - 0\n",
    "# Sethi - 3\n",
    "# Sumanth -0\n",
    "# Mavani - 2\n",
    "# Parth - 0\n",
    "# Revanth - 0\n",
    "\n",
    "Class = [0,2,3,0,0,0,1,0,3,3,2,3,2,1,1,0,1,0,1,1,1,0,0,3,0,2,0,0]\n",
    "print(len(Class))\n",
    "print(Class.count(0))\n",
    "print(Class.count(1))\n",
    "print(Class.count(2))\n",
    "print(Class.count(3))"
   ]
  },
  {
   "cell_type": "markdown",
   "metadata": {},
   "source": [
    "Stroop Classification"
   ]
  },
  {
   "cell_type": "code",
   "execution_count": 12,
   "metadata": {},
   "outputs": [
    {
     "name": "stdout",
     "output_type": "stream",
     "text": [
      "28\n",
      "Reaction Avg: [1974 1654 1633 1473]\n",
      "Total Avg: [34 41 41 43]\n",
      "Correct Avg: [33 40 40 43]\n"
     ]
    }
   ],
   "source": [
    "Reaction_avg =np.array([0,0,0,0])\n",
    "Total_avg = np.array([0,0,0,0])\n",
    "Correct_avg = np.array([0,0,0,0])\n",
    "print(len(Class))\n",
    "for i in range(len(Class)-1):\n",
    "    if(Class[i]==0):\n",
    "        Reaction_avg[0] += Stroop_Data.iloc[i,2]\n",
    "        Total_avg[0] += Stroop_Data.iloc[i,0]\n",
    "        Correct_avg[0] += Stroop_Data.iloc[i,1]\n",
    "    elif(Class[i]==1):\n",
    "        Reaction_avg[1] += Stroop_Data.iloc[i,2]\n",
    "        Total_avg[1] += Stroop_Data.iloc[i,0]\n",
    "        Correct_avg[1] += Stroop_Data.iloc[i,1]\n",
    "    elif(Class[i]==2):\n",
    "        Reaction_avg[2] += Stroop_Data.iloc[i,2]\n",
    "        Total_avg[2] += Stroop_Data.iloc[i,0]\n",
    "        Correct_avg[2] += Stroop_Data.iloc[i,1]\n",
    "    elif(Class[i]==3):\n",
    "        Reaction_avg[3] += Stroop_Data.iloc[i,2]\n",
    "        Total_avg[3] += Stroop_Data.iloc[i,0]\n",
    "        Correct_avg[3] += Stroop_Data.iloc[i,1]\n",
    "\n",
    "Reaction_avg[0] = Reaction_avg[0]/(Class.count(0))\n",
    "Reaction_avg[1] = Reaction_avg[1]/(Class.count(1))\n",
    "Reaction_avg[2] = Reaction_avg[2]/(Class.count(2))\n",
    "Reaction_avg[3] = Reaction_avg[3]/(Class.count(3))\n",
    "\n",
    "Total_avg[0] = Total_avg[0]/(Class.count(0))\n",
    "Total_avg[1] = Total_avg[1]/(Class.count(1))\n",
    "Total_avg[2] = Total_avg[2]/(Class.count(2))\n",
    "Total_avg[3] = Total_avg[3]/(Class.count(3))\n",
    "\n",
    "Correct_avg[0] = Correct_avg[0]/(Class.count(0))\n",
    "Correct_avg[1] = Correct_avg[1]/(Class.count(1))\n",
    "Correct_avg[2] = Correct_avg[2]/(Class.count(2))\n",
    "Correct_avg[3] = Correct_avg[3]/(Class.count(3))\n",
    "\n",
    "print('Reaction Avg:' ,Reaction_avg)\n",
    "print('Total Avg:' ,Total_avg)\n",
    "print('Correct Avg:' ,Correct_avg)\n"
   ]
  },
  {
   "cell_type": "code",
   "execution_count": 13,
   "metadata": {},
   "outputs": [
    {
     "data": {
      "image/png": "[encoded data removed]",
      "text/plain": [
       "<Figure size 1080x1080 with 3 Axes>"
      ]
     },
     "metadata": {
      "needs_background": "light"
     },
     "output_type": "display_data"
    }
   ],
   "source": [
    "#Stroop Plot\n",
    "plt.figure(figsize=(15,15))\n",
    "plt.subplot(1,3,1)\n",
    "plt.bar(['None','Gaming','Sports','Both'],Reaction_avg)\n",
    "plt.title('Reaction Time')\n",
    "plt.subplot(1,3,2)\n",
    "plt.bar(['None','Gaming','Sports','Both'],Total_avg)\n",
    "plt.title('Total Tries')\n",
    "plt.subplot(1,3,3)\n",
    "plt.bar(['None','Gaming','Sports','Both'],Correct_avg)\n",
    "plt.title('Correct Tries')\n",
    "\n",
    "\n",
    "plt.savefig('Stroop.png')"
   ]
  },
  {
   "cell_type": "markdown",
   "metadata": {},
   "source": [
    "Aiming Classification\n"
   ]
  },
  {
   "cell_type": "code",
   "execution_count": 14,
   "metadata": {},
   "outputs": [
    {
     "name": "stdout",
     "output_type": "stream",
     "text": [
      "TargetHit Avg: [52 80 40 81]\n",
      "Accuracy Avg: [69 87 93 89]\n"
     ]
    }
   ],
   "source": [
    "TargetHit_avg =np.array([0,0,0,0])\n",
    "Acc_avg = np.array([0,0,0,0])\n",
    "for i in range(len(Class)-1):\n",
    "    if(Class[i]==0):\n",
    "        TargetHit_avg[0] += Aiming_Data.iloc[i,0]\n",
    "        Acc_avg[0] += Aiming_Data.iloc[i,1]\n",
    "    elif(Class[i]==1):\n",
    "        TargetHit_avg[1] += Aiming_Data.iloc[i,0]\n",
    "        Acc_avg[1] += Aiming_Data.iloc[i,1]\n",
    "    elif(Class[i]==2):\n",
    "        TargetHit_avg[2] += Aiming_Data.iloc[i,0]\n",
    "        Acc_avg[2] += Aiming_Data.iloc[i,1]\n",
    "    elif(Class[i]==3):\n",
    "        TargetHit_avg[3] += Aiming_Data.iloc[i,0]\n",
    "        Acc_avg[3] += Aiming_Data.iloc[i,1]\n",
    "\n",
    "TargetHit_avg[0] = TargetHit_avg[0]/(Class.count(0))\n",
    "TargetHit_avg[1] = TargetHit_avg[1]/(Class.count(1))\n",
    "TargetHit_avg[2] = TargetHit_avg[2]/(Class.count(2))\n",
    "TargetHit_avg[3] = TargetHit_avg[3]/(Class.count(3))\n",
    "\n",
    "Acc_avg[0] = Acc_avg[0]/(Class.count(0))\n",
    "Acc_avg[1] = Acc_avg[1]/(Class.count(1))\n",
    "Acc_avg[2] = Acc_avg[2]/(Class.count(2))\n",
    "Acc_avg[3] = Acc_avg[3]/(Class.count(3))\n",
    "\n",
    "print('TargetHit Avg:' ,TargetHit_avg)\n",
    "print('Accuracy Avg:' ,Acc_avg)"
   ]
  },
  {
   "cell_type": "code",
   "execution_count": 15,
   "metadata": {},
   "outputs": [
    {
     "data": {
      "image/png": "[encoded data removed]",
      "text/plain": [
       "<Figure size 1080x1080 with 2 Axes>"
      ]
     },
     "metadata": {
      "needs_background": "light"
     },
     "output_type": "display_data"
    }
   ],
   "source": [
    "#Aiming Plot\n",
    "plt.figure(figsize=(15,15))\n",
    "plt.subplot(1,2,1)\n",
    "plt.bar(['None','Gaming','Sports','Both'],TargetHit_avg)\n",
    "plt.title('Target Hit')\n",
    "plt.subplot(1,2,2)\n",
    "plt.bar(['None','Gaming','Sports','Both'],Acc_avg)\n",
    "plt.title('Accuracy')\n",
    "plt.savefig('Aiming.png')"
   ]
  },
  {
   "cell_type": "markdown",
   "metadata": {},
   "source": [
    "Tracking Classification\n"
   ]
  },
  {
   "cell_type": "code",
   "execution_count": 16,
   "metadata": {},
   "outputs": [
    {
     "ename": "IndexError",
     "evalue": "index 0 is out of bounds for axis 0 with size 0",
     "output_type": "error",
     "traceback": [
      "\u001b[1;31m---------------------------------------------------------------------------\u001b[0m",
      "\u001b[1;31mIndexError\u001b[0m                                Traceback (most recent call last)",
      "\u001b[1;32mc:\\Dev\\BRED-Project\\Analysis.ipynb Cell 14\u001b[0m in \u001b[0;36m<cell line: 6>\u001b[1;34m()\u001b[0m\n\u001b[0;32m      <a href='vscode-notebook-cell:/c%3A/Dev/BRED-Project/Analysis.ipynb#X16sZmlsZQ%3D%3D?line=5'>6</a>\u001b[0m \u001b[39mfor\u001b[39;00m i \u001b[39min\u001b[39;00m \u001b[39mrange\u001b[39m(\u001b[39mlen\u001b[39m(Class)\u001b[39m-\u001b[39m\u001b[39m1\u001b[39m):\n\u001b[0;32m      <a href='vscode-notebook-cell:/c%3A/Dev/BRED-Project/Analysis.ipynb#X16sZmlsZQ%3D%3D?line=6'>7</a>\u001b[0m     \u001b[39mif\u001b[39;00m(Class[i]\u001b[39m==\u001b[39m\u001b[39m0\u001b[39m):\n\u001b[1;32m----> <a href='vscode-notebook-cell:/c%3A/Dev/BRED-Project/Analysis.ipynb#X16sZmlsZQ%3D%3D?line=7'>8</a>\u001b[0m         TargetHit_avg[\u001b[39m0\u001b[39m] \u001b[39m+\u001b[39m\u001b[39m=\u001b[39m Tracking_Data\u001b[39m.\u001b[39;49miloc[i,\u001b[39m0\u001b[39;49m]\n\u001b[0;32m      <a href='vscode-notebook-cell:/c%3A/Dev/BRED-Project/Analysis.ipynb#X16sZmlsZQ%3D%3D?line=8'>9</a>\u001b[0m         Acc_avg[\u001b[39m0\u001b[39m] \u001b[39m+\u001b[39m\u001b[39m=\u001b[39m Tracking_Data\u001b[39m.\u001b[39miloc[i,\u001b[39m1\u001b[39m]\n\u001b[0;32m     <a href='vscode-notebook-cell:/c%3A/Dev/BRED-Project/Analysis.ipynb#X16sZmlsZQ%3D%3D?line=9'>10</a>\u001b[0m         Speed_avg[\u001b[39m0\u001b[39m] \u001b[39m+\u001b[39m\u001b[39m=\u001b[39m Tracking_Data\u001b[39m.\u001b[39miloc[i,\u001b[39m2\u001b[39m]\n",
      "File \u001b[1;32m~\\AppData\\Local\\Programs\\Python\\Python310\\lib\\site-packages\\pandas\\core\\indexing.py:960\u001b[0m, in \u001b[0;36m_LocationIndexer.__getitem__\u001b[1;34m(self, key)\u001b[0m\n\u001b[0;32m    958\u001b[0m     key \u001b[39m=\u001b[39m \u001b[39mtuple\u001b[39m(com\u001b[39m.\u001b[39mapply_if_callable(x, \u001b[39mself\u001b[39m\u001b[39m.\u001b[39mobj) \u001b[39mfor\u001b[39;00m x \u001b[39min\u001b[39;00m key)\n\u001b[0;32m    959\u001b[0m     \u001b[39mif\u001b[39;00m \u001b[39mself\u001b[39m\u001b[39m.\u001b[39m_is_scalar_access(key):\n\u001b[1;32m--> 960\u001b[0m         \u001b[39mreturn\u001b[39;00m \u001b[39mself\u001b[39;49m\u001b[39m.\u001b[39;49mobj\u001b[39m.\u001b[39;49m_get_value(\u001b[39m*\u001b[39;49mkey, takeable\u001b[39m=\u001b[39;49m\u001b[39mself\u001b[39;49m\u001b[39m.\u001b[39;49m_takeable)\n\u001b[0;32m    961\u001b[0m     \u001b[39mreturn\u001b[39;00m \u001b[39mself\u001b[39m\u001b[39m.\u001b[39m_getitem_tuple(key)\n\u001b[0;32m    962\u001b[0m \u001b[39melse\u001b[39;00m:\n\u001b[0;32m    963\u001b[0m     \u001b[39m# we by definition only have the 0th axis\u001b[39;00m\n",
      "File \u001b[1;32m~\\AppData\\Local\\Programs\\Python\\Python310\\lib\\site-packages\\pandas\\core\\frame.py:3612\u001b[0m, in \u001b[0;36mDataFrame._get_value\u001b[1;34m(self, index, col, takeable)\u001b[0m\n\u001b[0;32m   3593\u001b[0m \u001b[39m\"\"\"\u001b[39;00m\n\u001b[0;32m   3594\u001b[0m \u001b[39mQuickly retrieve single value at passed column and index.\u001b[39;00m\n\u001b[0;32m   3595\u001b[0m \n\u001b[1;32m   (...)\u001b[0m\n\u001b[0;32m   3609\u001b[0m \u001b[39m`self.columns._index_as_unique`; Caller is responsible for checking.\u001b[39;00m\n\u001b[0;32m   3610\u001b[0m \u001b[39m\"\"\"\u001b[39;00m\n\u001b[0;32m   3611\u001b[0m \u001b[39mif\u001b[39;00m takeable:\n\u001b[1;32m-> 3612\u001b[0m     series \u001b[39m=\u001b[39m \u001b[39mself\u001b[39;49m\u001b[39m.\u001b[39;49m_ixs(col, axis\u001b[39m=\u001b[39;49m\u001b[39m1\u001b[39;49m)\n\u001b[0;32m   3613\u001b[0m     \u001b[39mreturn\u001b[39;00m series\u001b[39m.\u001b[39m_values[index]\n\u001b[0;32m   3615\u001b[0m series \u001b[39m=\u001b[39m \u001b[39mself\u001b[39m\u001b[39m.\u001b[39m_get_item_cache(col)\n",
      "File \u001b[1;32m~\\AppData\\Local\\Programs\\Python\\Python310\\lib\\site-packages\\pandas\\core\\frame.py:3439\u001b[0m, in \u001b[0;36mDataFrame._ixs\u001b[1;34m(self, i, axis)\u001b[0m\n\u001b[0;32m   3435\u001b[0m     \u001b[39mreturn\u001b[39;00m result\n\u001b[0;32m   3437\u001b[0m \u001b[39m# icol\u001b[39;00m\n\u001b[0;32m   3438\u001b[0m \u001b[39melse\u001b[39;00m:\n\u001b[1;32m-> 3439\u001b[0m     label \u001b[39m=\u001b[39m \u001b[39mself\u001b[39;49m\u001b[39m.\u001b[39;49mcolumns[i]\n\u001b[0;32m   3441\u001b[0m     col_mgr \u001b[39m=\u001b[39m \u001b[39mself\u001b[39m\u001b[39m.\u001b[39m_mgr\u001b[39m.\u001b[39miget(i)\n\u001b[0;32m   3442\u001b[0m     result \u001b[39m=\u001b[39m \u001b[39mself\u001b[39m\u001b[39m.\u001b[39m_box_col_values(col_mgr, i)\n",
      "File \u001b[1;32m~\\AppData\\Local\\Programs\\Python\\Python310\\lib\\site-packages\\pandas\\core\\indexes\\base.py:5039\u001b[0m, in \u001b[0;36mIndex.__getitem__\u001b[1;34m(self, key)\u001b[0m\n\u001b[0;32m   5036\u001b[0m \u001b[39mif\u001b[39;00m is_integer(key) \u001b[39mor\u001b[39;00m is_float(key):\n\u001b[0;32m   5037\u001b[0m     \u001b[39m# GH#44051 exclude bool, which would return a 2d ndarray\u001b[39;00m\n\u001b[0;32m   5038\u001b[0m     key \u001b[39m=\u001b[39m com\u001b[39m.\u001b[39mcast_scalar_indexer(key, warn_float\u001b[39m=\u001b[39m\u001b[39mTrue\u001b[39;00m)\n\u001b[1;32m-> 5039\u001b[0m     \u001b[39mreturn\u001b[39;00m getitem(key)\n\u001b[0;32m   5041\u001b[0m \u001b[39mif\u001b[39;00m \u001b[39misinstance\u001b[39m(key, \u001b[39mslice\u001b[39m):\n\u001b[0;32m   5042\u001b[0m     \u001b[39m# This case is separated from the conditional above to avoid\u001b[39;00m\n\u001b[0;32m   5043\u001b[0m     \u001b[39m# pessimization com.is_bool_indexer and ndim checks.\u001b[39;00m\n\u001b[0;32m   5044\u001b[0m     result \u001b[39m=\u001b[39m getitem(key)\n",
      "\u001b[1;31mIndexError\u001b[0m: index 0 is out of bounds for axis 0 with size 0"
     ]
    }
   ],
   "source": [
    "TargetHit_avg =np.array([0,0,0,0])\n",
    "Acc_avg = np.array([0,0,0,0])\n",
    "Speed_avg = np.array([0,0,0,0])\n",
    "Time_avg = np.array([0,0,0,0])\n",
    "\n",
    "for i in range(len(Class)-1):\n",
    "    if(Class[i]==0):\n",
    "        TargetHit_avg[0] += Tracking_Data.iloc[i,0]\n",
    "        Acc_avg[0] += Tracking_Data.iloc[i,1]\n",
    "        Speed_avg[0] += Tracking_Data.iloc[i,2]\n",
    "        Time_avg[0] += Tracking_Data.iloc[i,3]\n",
    "    elif(Class[i]==1):\n",
    "        TargetHit_avg[1] += Tracking_Data.iloc[i,0]\n",
    "        Acc_avg[1] += Tracking_Data.iloc[i,1]\n",
    "        Speed_avg[1] += Tracking_Data.iloc[i,2]\n",
    "        Time_avg[1] += Tracking_Data.iloc[i,3]\n",
    "    elif(Class[i]==2):\n",
    "        TargetHit_avg[2] += Tracking_Data.iloc[i,0]\n",
    "        Acc_avg[2] += Tracking_Data.iloc[i,1]\n",
    "        Speed_avg[2] += Tracking_Data.iloc[i,2]\n",
    "        Time_avg[2] += Tracking_Data.iloc[i,3]\n",
    "    elif(Class[i]==3):\n",
    "        TargetHit_avg[3] += Tracking_Data.iloc[i,0]\n",
    "        Acc_avg[3] += Tracking_Data.iloc[i,1]\n",
    "        Speed_avg[3] += Tracking_Data.iloc[i,2]\n",
    "        Time_avg[3] += Tracking_Data.iloc[i,3]\n",
    "\n",
    "TargetHit_avg[0] = TargetHit_avg[0]/(Class.count(0))\n",
    "TargetHit_avg[1] = TargetHit_avg[1]/(Class.count(1))\n",
    "TargetHit_avg[2] = TargetHit_avg[2]/(Class.count(2))\n",
    "TargetHit_avg[3] = TargetHit_avg[3]/(Class.count(3))\n",
    "\n",
    "Acc_avg[0] = Acc_avg[0]/(Class.count(0))\n",
    "Acc_avg[1] = Acc_avg[1]/(Class.count(1))\n",
    "Acc_avg[2] = Acc_avg[2]/(Class.count(2))\n",
    "Acc_avg[3] = Acc_avg[3]/(Class.count(3))\n",
    "\n",
    "Speed_avg[0] = Speed_avg[0]/(Class.count(0))\n",
    "Speed_avg[1] = Speed_avg[1]/(Class.count(1))\n",
    "Speed_avg[2] = Speed_avg[2]/(Class.count(2))\n",
    "Speed_avg[3] = Speed_avg[3]/(Class.count(3))\n",
    "\n",
    "Time_avg[0] = Time_avg[0]/(Class.count(0))\n",
    "Time_avg[1] = Time_avg[1]/(Class.count(1))\n",
    "Time_avg[2] = Time_avg[2]/(Class.count(2))\n",
    "Time_avg[3] = Time_avg[3]/(Class.count(3))\n"
   ]
  },
  {
   "cell_type": "markdown",
   "metadata": {},
   "source": [
    "Plotting"
   ]
  },
  {
   "cell_type": "code",
   "execution_count": null,
   "metadata": {},
   "outputs": [],
   "source": [
    "#Tracking Plot\n",
    "plt.figure(figsize=(15,15))\n",
    "plt.subplot(2,2,1)\n",
    "plt.bar(['None','Gaming','Sports','Both'],TargetHit_avg)\n",
    "plt.title('Target Hit')\n",
    "plt.subplot(2,2,2)\n",
    "plt.bar(['None','Gaming','Sports','Both'],Acc_avg)\n",
    "plt.title('Accuracy')\n",
    "plt.subplot(2,2,3)\n",
    "plt.bar(['None','Gaming','Sports','Both'],Speed_avg)\n",
    "plt.title('Speed')\n",
    "plt.subplot(2,2,4)\n",
    "plt.bar(['None','Gaming','Sports','Both'],Time_avg)\n",
    "plt.title('Time')\n",
    "plt.savefig('Tracking.png')\n"
   ]
  }
 ],
 "metadata": {
  "kernelspec": {
   "display_name": "Python 3.10.5 64-bit",
   "language": "python",
   "name": "python3"
  },
  "language_info": {
   "codemirror_mode": {
    "name": "ipython",
    "version": 3
   },
   "file_extension": ".py",
   "mimetype": "text/x-python",
   "name": "python",
   "nbconvert_exporter": "python",
   "pygments_lexer": "ipython3",
   "version": "3.10.5"
  },
  "orig_nbformat": 4,
  "vscode": {
   "interpreter": {
    "hash": "369f2c481f4da34e4445cda3fffd2e751bd1c4d706f27375911949ba6bb62e1c"
   }
  }
 },
 "nbformat": 4,
 "nbformat_minor": 2
}

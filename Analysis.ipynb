{
 "cells": [
  {
   "cell_type": "markdown",
   "metadata": {},
   "source": [
    "Importing Libraries\n"
   ]
  },
  {
   "cell_type": "code",
   "execution_count": 64,
   "metadata": {},
   "outputs": [],
   "source": [
    "import pandas as pd\n",
    "import numpy as np\n",
    "import matplotlib.pyplot as plt\n",
    "import seaborn as sns\n"
   ]
  },
  {
   "cell_type": "markdown",
   "metadata": {},
   "source": [
    "Import Data"
   ]
  },
  {
   "cell_type": "code",
   "execution_count": 65,
   "metadata": {},
   "outputs": [
    {
     "name": "stdout",
     "output_type": "stream",
     "text": [
      "    Target Hits(Tracking)  Accuracy(Tracking)  Final Speed(Tracking)  \\\n",
      "0                    20.0               86.96                   2.13   \n",
      "1                     6.0              100.00                   2.07   \n",
      "2                    11.0               91.67                   2.10   \n",
      "3                    20.0              100.00                   2.13   \n",
      "4                     9.0              100.00                   2.08   \n",
      "5                    16.0               88.89                   2.11   \n",
      "6                    12.0               70.59                   2.09   \n",
      "7                    32.0               91.43                   2.19   \n",
      "8                    37.0               92.50                   2.20   \n",
      "9                    35.0               97.22                   2.20   \n",
      "10                   12.0               85.71                   2.09   \n",
      "11                   28.0               82.35                   2.17   \n",
      "12                   11.0              100.00                   2.08   \n",
      "13                  122.0               85.31                   2.57   \n",
      "14                   19.0              100.00                   2.12   \n",
      "15                   54.0               93.10                   2.29   \n",
      "16                   25.0               75.76                   2.15   \n",
      "17                    7.0              100.00                   2.07   \n",
      "18                   23.0               82.14                   2.15   \n",
      "19                   22.0               91.67                   2.14   \n",
      "20                   32.0               82.05                   2.19   \n",
      "21                   30.0               93.75                   2.17   \n",
      "22                    7.0              100.00                   2.08   \n",
      "23                    7.0              100.00                   2.07   \n",
      "24                   17.0               94.44                   2.12   \n",
      "25                   20.0               74.07                   2.12   \n",
      "26                   20.0               55.56                   2.14   \n",
      "27                    9.0              100.00                   2.05   \n",
      "\n",
      "    Time(Tracking)  \n",
      "0             13.3  \n",
      "1              7.0  \n",
      "2             10.5  \n",
      "3             13.5  \n",
      "4              8.0  \n",
      "5             11.4  \n",
      "6              9.9  \n",
      "7             19.6  \n",
      "8             21.2  \n",
      "9             20.1  \n",
      "10            10.0  \n",
      "11            17.1  \n",
      "12             8.5  \n",
      "13            57.3  \n",
      "14            12.8  \n",
      "15            29.4  \n",
      "16            15.3  \n",
      "17             7.0  \n",
      "18            15.3  \n",
      "19            14.4  \n",
      "20            19.0  \n",
      "21            17.7  \n",
      "22             8.0  \n",
      "23             7.0  \n",
      "24            12.4  \n",
      "25            12.8  \n",
      "26            14.3  \n",
      "27             8.5  \n"
     ]
    }
   ],
   "source": [
    "Data = pd.read_csv('BRED (Responses) - Form Responses 1.csv')\n",
    "Class_Data =  Data.iloc[:,18]\n",
    "#class_Data =  Data.iloc[:,1].append(Data.iloc[:,6]).append(Data.iloc[:,8])\n",
    "Stroop_Data = Data.iloc[:,21:24]\n",
    "Aiming_Data = Data.iloc[:,24:26]\n",
    "Tracking_Data = Data.iloc[:,26:30]\n",
    "Stroop_Data = Stroop_Data.astype(float)\n",
    "Aiming_Data = Aiming_Data.astype(float)\n",
    "Tracking_Data = Tracking_Data.astype(float)\n",
    "\n",
    "Class_Data = Class_Data.tolist()\n",
    "#print(Class_Data.count(2))\n",
    "\n",
    "#print((Class_Data))\n",
    "#print(Stroop_Data)\n",
    "#print(Aiming_Data)\n",
    "print(Tracking_Data)"
   ]
  },
  {
   "cell_type": "markdown",
   "metadata": {},
   "source": [
    "Separating into classes"
   ]
  },
  {
   "cell_type": "code",
   "execution_count": 66,
   "metadata": {},
   "outputs": [
    {
     "name": "stdout",
     "output_type": "stream",
     "text": [
      "28\n",
      "12\n",
      "7\n",
      "4\n",
      "5\n"
     ]
    }
   ],
   "source": [
    "# Class = np.array([[]])\n",
    "# for i in range(0,Class_Data.shape[0]):\n",
    "    # if Class_Data.iloc[i,0] == 'B':\n",
    "        # Class[i,0] = 1\n",
    "    # else:\n",
    "        # Class_Data.iloc[i,0] = 0\n",
    "# nair - 0\n",
    "#pradh - 2\n",
    "# Vivek - 3\n",
    "# NikhilA - 0\n",
    "# NikhilB - 0\n",
    "# Sarthak - 0\n",
    "# aryanS - 1\n",
    "#Mitul - 0\n",
    "#ARyanB - 3\n",
    "#Arnav - 3\n",
    "# KNV - 2\n",
    "# Agrim - 3\n",
    "#Sujji -2\n",
    "# Tejah -1\n",
    "# ROhan - 1\n",
    "# Sankalp -0\n",
    "# SK - 1\n",
    "# Tarun -0 \n",
    "# Aniket - 1\n",
    "# Gnan - 1\n",
    "#ShinChan -1\n",
    "#EshRohan - 0\n",
    "# Vaibhav - 0\n",
    "# Sethi - 3\n",
    "# Sumanth -0\n",
    "# Mavani - 2\n",
    "# Parth - 0\n",
    "# Revanth - 0\n",
    "\n",
    "Class = [0,2,3,0,0,0,1,0,3,3,2,3,2,1,1,0,1,0,1,1,1,0,0,3,0,2,0,0]\n",
    "print(len(Class))\n",
    "print(Class.count(0))\n",
    "print(Class.count(1))\n",
    "print(Class.count(2))\n",
    "print(Class.count(3))"
   ]
  },
  {
   "cell_type": "markdown",
   "metadata": {},
   "source": [
    "## Stroop Classification"
   ]
  },
  {
   "cell_type": "code",
   "execution_count": 67,
   "metadata": {},
   "outputs": [
    {
     "name": "stdout",
     "output_type": "stream",
     "text": [
      "28\n",
      "[[0.000e+000 4.941e-324 9.881e-324]\n",
      " [4.200e+001 4.000e+001 1.500e+003]\n",
      " [5.300e+001 5.300e+001 1.132e+003]\n",
      " [4.200e+001 4.200e+001 1.429e+003]\n",
      " [3.400e+001 3.400e+001 1.765e+003]\n",
      " [5.800e+001 5.500e+001 1.091e+003]\n",
      " [2.500e+001 2.500e+001 2.400e+003]\n",
      " [3.600e+001 3.600e+001 1.667e+003]\n",
      " [3.000e+001 3.000e+001 2.000e+003]\n",
      " [1.400e+001 8.000e+000 7.500e+003]\n",
      " [4.500e+001 4.500e+001 1.333e+003]]\n",
      "Reaction Avg: [1983 1682 1633 1473]\n",
      "Total Avg: [34 40 41 43]\n",
      "Correct Avg: [33 39 40 43]\n"
     ]
    }
   ],
   "source": [
    "S_Reaction_avg =np.array([0,0,0,0])\n",
    "S_Total_avg = np.array([0,0,0,0])\n",
    "S_Correct_avg = np.array([0,0,0,0])\n",
    "\n",
    "S_stat_0 = np.empty((1,3))\n",
    "S_stat_1 = np.empty((1,3))\n",
    "S_stat_2 = np.empty((1,3))\n",
    "S_stat_3 = np.empty((1,3))\n",
    "\n",
    "print(len(Class_Data))\n",
    "for i in range(len(Class_Data)-1):\n",
    "    if(Class_Data[i]==0):\n",
    "        S_stat_0 = np.append(S_stat_0,[[Stroop_Data.iloc[i,0],Stroop_Data.iloc[i,1],Stroop_Data.iloc[i,2]]],axis=0)\n",
    "        S_Reaction_avg[0] += Stroop_Data.iloc[i,2]\n",
    "        S_Total_avg[0] += Stroop_Data.iloc[i,0]\n",
    "        S_Correct_avg[0] += Stroop_Data.iloc[i,1]\n",
    "    elif(Class_Data[i]==1):\n",
    "        S_stat_1 = np.append(S_stat_1,[[Stroop_Data.iloc[i,0],Stroop_Data.iloc[i,1],Stroop_Data.iloc[i,2]]],axis=0)\n",
    "        S_Reaction_avg[1] += Stroop_Data.iloc[i,2]\n",
    "        S_Total_avg[1] += Stroop_Data.iloc[i,0]\n",
    "        S_Correct_avg[1] += Stroop_Data.iloc[i,1]\n",
    "    elif(Class_Data[i]==2):\n",
    "        S_stat_2 = np.append(S_stat_2,[[Stroop_Data.iloc[i,0],Stroop_Data.iloc[i,1],Stroop_Data.iloc[i,2]]],axis=0)\n",
    "        S_Reaction_avg[2] += Stroop_Data.iloc[i,2]\n",
    "        S_Total_avg[2] += Stroop_Data.iloc[i,0]\n",
    "        S_Correct_avg[2] += Stroop_Data.iloc[i,1]\n",
    "    elif(Class_Data[i]==3):\n",
    "        S_stat_3 = np.append(S_stat_3,[[Stroop_Data.iloc[i,0],Stroop_Data.iloc[i,1],Stroop_Data.iloc[i,2]]],axis=0)\n",
    "        S_Reaction_avg[3] += Stroop_Data.iloc[i,2]\n",
    "        S_Total_avg[3] += Stroop_Data.iloc[i,0]\n",
    "        S_Correct_avg[3] += Stroop_Data.iloc[i,1]\n",
    "\n",
    "print(S_stat_0)\n",
    "\n",
    "S_Reaction_avg[0] = S_Reaction_avg[0]/(Class_Data.count(0))\n",
    "S_Reaction_avg[1] = S_Reaction_avg[1]/(Class_Data.count(1))\n",
    "S_Reaction_avg[2] = S_Reaction_avg[2]/(Class_Data.count(2))\n",
    "S_Reaction_avg[3] = S_Reaction_avg[3]/(Class_Data.count(3))\n",
    "\n",
    "S_Total_avg[0] = S_Total_avg[0]/(Class_Data.count(0))\n",
    "S_Total_avg[1] = S_Total_avg[1]/(Class_Data.count(1))\n",
    "S_Total_avg[2] = S_Total_avg[2]/(Class_Data.count(2))\n",
    "S_Total_avg[3] = S_Total_avg[3]/(Class_Data.count(3))\n",
    "\n",
    "S_Correct_avg[0] = S_Correct_avg[0]/(Class_Data.count(0))\n",
    "S_Correct_avg[1] = S_Correct_avg[1]/(Class_Data.count(1))\n",
    "S_Correct_avg[2] = S_Correct_avg[2]/(Class_Data.count(2))\n",
    "S_Correct_avg[3] = S_Correct_avg[3]/(Class_Data.count(3))\n",
    "\n",
    "print('Reaction Avg:' ,S_Reaction_avg)\n",
    "print('Total Avg:' ,S_Total_avg)\n",
    "print('Correct Avg:' ,S_Correct_avg)\n"
   ]
  },
  {
   "cell_type": "markdown",
   "metadata": {},
   "source": [
    "## Aiming Classification\n"
   ]
  },
  {
   "cell_type": "code",
   "execution_count": 68,
   "metadata": {},
   "outputs": [
    {
     "name": "stdout",
     "output_type": "stream",
     "text": [
      "TargetHit Avg: [52 80 40 81]\n",
      "Accuracy Avg: [69 87 93 89]\n"
     ]
    }
   ],
   "source": [
    "A_TargetHit_avg =np.array([0,0,0,0])\n",
    "A_Acc_avg = np.array([0,0,0,0])\n",
    "\n",
    "A_stat_0 = np.empty((1,2))\n",
    "A_stat_1 = np.empty((1,2))\n",
    "A_stat_2 = np.empty((1,2))\n",
    "A_stat_3 = np.empty((1,2))\n",
    "\n",
    "for i in range(len(Class)-1):\n",
    "    if(Class[i]==0):\n",
    "        A_stat_0 = np.append(A_stat_0,[[Aiming_Data.iloc[i,0],Aiming_Data.iloc[i,1]]],axis=0)\n",
    "        A_TargetHit_avg[0] += Aiming_Data.iloc[i,0]\n",
    "        A_Acc_avg[0] += Aiming_Data.iloc[i,1]\n",
    "    elif(Class[i]==1):\n",
    "        A_stat_1 = np.append(A_stat_1,[[Aiming_Data.iloc[i,0],Aiming_Data.iloc[i,1]]],axis=0)\n",
    "        A_TargetHit_avg[1] += Aiming_Data.iloc[i,0]\n",
    "        A_Acc_avg[1] += Aiming_Data.iloc[i,1]\n",
    "    elif(Class[i]==2):\n",
    "        A_stat_2 = np.append(A_stat_2,[[Aiming_Data.iloc[i,0],Aiming_Data.iloc[i,1]]],axis=0)\n",
    "        A_TargetHit_avg[2] += Aiming_Data.iloc[i,0]\n",
    "        A_Acc_avg[2] += Aiming_Data.iloc[i,1]\n",
    "    elif(Class[i]==3):\n",
    "        A_stat_3 = np.append(A_stat_3,[[Aiming_Data.iloc[i,0],Aiming_Data.iloc[i,1]]],axis=0)\n",
    "        A_TargetHit_avg[3] += Aiming_Data.iloc[i,0]\n",
    "        A_Acc_avg[3] += Aiming_Data.iloc[i,1]\n",
    "\n",
    "A_TargetHit_avg[0] = A_TargetHit_avg[0]/(Class.count(0))\n",
    "A_TargetHit_avg[1] = A_TargetHit_avg[1]/(Class.count(1))\n",
    "A_TargetHit_avg[2] = A_TargetHit_avg[2]/(Class.count(2))\n",
    "A_TargetHit_avg[3] = A_TargetHit_avg[3]/(Class.count(3))\n",
    "\n",
    "A_Acc_avg[0] = A_Acc_avg[0]/(Class.count(0))\n",
    "A_Acc_avg[1] = A_Acc_avg[1]/(Class.count(1))\n",
    "A_Acc_avg[2] = A_Acc_avg[2]/(Class.count(2))\n",
    "A_Acc_avg[3] = A_Acc_avg[3]/(Class.count(3))\n",
    "\n",
    "print('TargetHit Avg:' ,A_TargetHit_avg)\n",
    "print('Accuracy Avg:' ,A_Acc_avg)"
   ]
  },
  {
   "cell_type": "markdown",
   "metadata": {},
   "source": [
    "## Tracking Classification\n"
   ]
  },
  {
   "cell_type": "code",
   "execution_count": 69,
   "metadata": {},
   "outputs": [],
   "source": [
    "T_TargetHit_avg =np.array([0,0,0,0])\n",
    "T_Acc_avg = np.array([0,0,0,0])\n",
    "T_Speed_avg = np.array([0,0,0,0])\n",
    "T_Time_avg = np.array([0,0,0,0])\n",
    "\n",
    "T_stat_0 = np.empty((1,4))\n",
    "T_stat_1 = np.empty((1,4))\n",
    "T_stat_2 = np.empty((1,4))\n",
    "T_stat_3 = np.empty((1,4))\n",
    "\n",
    "for i in range(len(Class)-1):\n",
    "    if(Class[i]==0):\n",
    "        T_stat_0 = np.append(T_stat_0,[[Tracking_Data.iloc[i,0],Tracking_Data.iloc[i,1],Tracking_Data.iloc[i,2],Tracking_Data.iloc[i,3]]],axis=0)\n",
    "        T_TargetHit_avg[0] += Tracking_Data.iloc[i,0]\n",
    "        T_Acc_avg[0] += Tracking_Data.iloc[i,1]\n",
    "        T_Speed_avg[0] += Tracking_Data.iloc[i,2]\n",
    "        T_Time_avg[0] += Tracking_Data.iloc[i,3]\n",
    "    elif(Class[i]==1):\n",
    "        T_stat_1 = np.append(T_stat_1,[[Tracking_Data.iloc[i,0],Tracking_Data.iloc[i,1],Tracking_Data.iloc[i,2],Tracking_Data.iloc[i,3]]],axis=0)\n",
    "        T_TargetHit_avg[1] += Tracking_Data.iloc[i,0]\n",
    "        T_Acc_avg[1] += Tracking_Data.iloc[i,1]\n",
    "        T_Speed_avg[1] += Tracking_Data.iloc[i,2]\n",
    "        T_Time_avg[1] += Tracking_Data.iloc[i,3]\n",
    "    elif(Class[i]==2):\n",
    "        T_stat_2 = np.append(T_stat_2,[[Tracking_Data.iloc[i,0],Tracking_Data.iloc[i,1],Tracking_Data.iloc[i,2],Tracking_Data.iloc[i,3]]],axis=0)\n",
    "        T_TargetHit_avg[2] += Tracking_Data.iloc[i,0]\n",
    "        T_Acc_avg[2] += Tracking_Data.iloc[i,1]\n",
    "        T_Speed_avg[2] += Tracking_Data.iloc[i,2]\n",
    "        T_Time_avg[2] += Tracking_Data.iloc[i,3]\n",
    "    elif(Class[i]==3):\n",
    "        T_stat_3 = np.append(T_stat_3,[[Tracking_Data.iloc[i,0],Tracking_Data.iloc[i,1],Tracking_Data.iloc[i,2],Tracking_Data.iloc[i,3]]],axis=0)\n",
    "        T_TargetHit_avg[3] += Tracking_Data.iloc[i,0]\n",
    "        T_Acc_avg[3] += Tracking_Data.iloc[i,1]\n",
    "        T_Speed_avg[3] += Tracking_Data.iloc[i,2]\n",
    "        T_Time_avg[3] += Tracking_Data.iloc[i,3]\n",
    "\n",
    "# print(T_stat_0)\n",
    "\n",
    "T_TargetHit_avg[0] = T_TargetHit_avg[0]/(Class.count(0))\n",
    "T_TargetHit_avg[1] = T_TargetHit_avg[1]/(Class.count(1))\n",
    "T_TargetHit_avg[2] = T_TargetHit_avg[2]/(Class.count(2))\n",
    "T_TargetHit_avg[3] = T_TargetHit_avg[3]/(Class.count(3))\n",
    "\n",
    "T_Acc_avg[0] = T_Acc_avg[0]/(Class.count(0))\n",
    "T_Acc_avg[1] = T_Acc_avg[1]/(Class.count(1))\n",
    "T_Acc_avg[2] = T_Acc_avg[2]/(Class.count(2))\n",
    "T_Acc_avg[3] = T_Acc_avg[3]/(Class.count(3))\n",
    "\n",
    "T_Speed_avg[0] = T_Speed_avg[0]/(Class.count(0))\n",
    "T_Speed_avg[1] = T_Speed_avg[1]/(Class.count(1))\n",
    "T_Speed_avg[2] = T_Speed_avg[2]/(Class.count(2))\n",
    "T_Speed_avg[3] = T_Speed_avg[3]/(Class.count(3))\n",
    "\n",
    "T_Time_avg[0] = T_Time_avg[0]/(Class.count(0))\n",
    "T_Time_avg[1] = T_Time_avg[1]/(Class.count(1))\n",
    "T_Time_avg[2] = T_Time_avg[2]/(Class.count(2))\n",
    "T_Time_avg[3] = T_Time_avg[3]/(Class.count(3))\n"
   ]
  },
  {
   "cell_type": "markdown",
   "metadata": {},
   "source": [
    "# Plotting"
   ]
  },
  {
   "cell_type": "markdown",
   "metadata": {},
   "source": [
    "## Class-wise Comparison"
   ]
  },
  {
   "cell_type": "code",
   "execution_count": 70,
   "metadata": {},
   "outputs": [
    {
     "data": {
      "image/png": "[encoded data removed]",
      "text/plain": [
       "<Figure size 1080x720 with 3 Axes>"
      ]
     },
     "metadata": {
      "needs_background": "dark"
     },
     "output_type": "display_data"
    }
   ],
   "source": [
    "#Stroop Plot\n",
    "#plt.style.use('dark_background')\n",
    "\n",
    "plt.figure(figsize=(15,10))\n",
    "plt.suptitle('Stroop Test')\n",
    "\n",
    "plt.subplot(1,3,1)\n",
    "plt.bar(['None','Gaming','Sports','Both'],S_Reaction_avg,color=['cyan','magenta','green','orange'])\n",
    "plt.title('Reaction Time')\n",
    "plt.xlabel('Class')\n",
    "plt.ylabel('Reaction Time (ms)')\n",
    "\n",
    "plt.subplot(1,3,2)\n",
    "plt.bar(['None','Gaming','Sports','Both'],S_Total_avg,color=['cyan','magenta','green','orange'])\n",
    "plt.title('Total Tries')\n",
    "plt.xlabel('Class')\n",
    "plt.ylabel('Total Tries')\n",
    "\n",
    "plt.subplot(1,3,3)\n",
    "plt.bar(['None','Gaming','Sports','Both'],S_Correct_avg,color=['cyan','magenta','green','orange'])\n",
    "plt.title('Correct Tries')\n",
    "plt.xlabel('Class')\n",
    "plt.ylabel('Correct Tries')\n",
    "\n",
    "plt.savefig('Stroop.png')"
   ]
  },
  {
   "cell_type": "code",
   "execution_count": 71,
   "metadata": {},
   "outputs": [
    {
     "data": {
      "image/png": "[encoded data removed]",
      "text/plain": [
       "<Figure size 1080x720 with 2 Axes>"
      ]
     },
     "metadata": {
      "needs_background": "dark"
     },
     "output_type": "display_data"
    }
   ],
   "source": [
    "#Aiming Plot\n",
    "plt.figure(figsize=(15,10))\n",
    "plt.suptitle('Aiming')\n",
    "\n",
    "plt.subplot(1,2,1)\n",
    "plt.bar(['None','Gaming','Sports','Both'],A_TargetHit_avg,color=['cyan','magenta','green','orange'])\n",
    "plt.title('Target Hit')\n",
    "plt.xlabel('Class')\n",
    "plt.ylabel('Target Hit')\n",
    "\n",
    "plt.subplot(1,2,2)\n",
    "plt.bar(['None','Gaming','Sports','Both'],A_Acc_avg,color=['cyan','magenta','green','orange'])\n",
    "plt.title('Accuracy')\n",
    "plt.xlabel('Class')\n",
    "plt.ylabel('Accuracy')\n",
    "\n",
    "plt.savefig('Aiming.png')"
   ]
  },
  {
   "cell_type": "code",
   "execution_count": 72,
   "metadata": {},
   "outputs": [
    {
     "data": {
      "image/png": "[encoded data removed]",
      "text/plain": [
       "<Figure size 1080x1080 with 4 Axes>"
      ]
     },
     "metadata": {
      "needs_background": "dark"
     },
     "output_type": "display_data"
    }
   ],
   "source": [
    "#Tracking Plot\n",
    "plt.figure(figsize=(15,15))\n",
    "plt.suptitle('Tracking')\n",
    "\n",
    "plt.subplot(2,2,1)\n",
    "plt.bar(['None','Gaming','Sports','Both'],T_TargetHit_avg,color=['cyan','magenta','green','orange'])\n",
    "plt.title('Target Hit')\n",
    "plt.xlabel('Class')\n",
    "plt.ylabel('Target Hit')\n",
    "\n",
    "plt.subplot(2,2,2)\n",
    "plt.bar(['None','Gaming','Sports','Both'],T_Acc_avg,color=['cyan','magenta','green','orange'])\n",
    "plt.title('Accuracy')\n",
    "plt.xlabel('Class')\n",
    "plt.ylabel('Accuracy')\n",
    "\n",
    "plt.subplot(2,2,3)\n",
    "plt.bar(['None','Gaming','Sports','Both'],T_Speed_avg,color=['cyan','magenta','green','orange'])\n",
    "plt.title('Speed')\n",
    "plt.xlabel('Class')\n",
    "plt.ylabel('Speed')\n",
    "\n",
    "plt.subplot(2,2,4)\n",
    "plt.bar(['None','Gaming','Sports','Both'],T_Time_avg,color=['cyan','magenta','green','orange'])\n",
    "plt.title('Time')\n",
    "plt.xlabel('Class')\n",
    "plt.ylabel('Time')\n",
    "\n",
    "plt.savefig('Tracking.png')\n"
   ]
  },
  {
   "cell_type": "markdown",
   "metadata": {},
   "source": [
    "## Test-wise Comparison"
   ]
  },
  {
   "cell_type": "code",
   "execution_count": 73,
   "metadata": {},
   "outputs": [],
   "source": [
    "#x = np.array(4)\n",
    "#width = 0.2\n",
    "#\n",
    "#\n",
    "#plt.figure(figsize=(15,15))\n",
    "#plt.title('Test-wise Comparison')\n",
    "#\n",
    "#plt.subplot(2,2,1)\n",
    "#plt.title('None')\n",
    "#plt.xlabel('Tests')\n",
    "#plt.ylabel('Value')\n",
    "#plt.bar(x,y1,width)\n",
    "#plt.bar(x+width,y2,width,label = 'Stroop')\n",
    "#plt.bar(x+2*width,y3,width,label = 'Aiming')\n",
    "#plt.bar(x+3*width,y4,width,label = 'Tracking')\n",
    "##plt.xticks(x,['Stroop','Aiming','Tracking'])\n",
    "#plt.legend(['None','Gaming','Sports','Both'])\n",
    "#"
   ]
  },
  {
   "cell_type": "markdown",
   "metadata": {},
   "source": [
    "## Internal Comparison\n"
   ]
  },
  {
   "cell_type": "code",
   "execution_count": 74,
   "metadata": {},
   "outputs": [
    {
     "name": "stderr",
     "output_type": "stream",
     "text": [
      "C:\\Users\\Aakash Reddy\\AppData\\Local\\Temp\\ipykernel_22792\\3392931283.py:6: RuntimeWarning: divide by zero encountered in true_divide\n",
      "  sns.boxplot(data = [S_stat_0[:,1]/S_stat_0[:,0],A_stat_0[:,1]/100,T_stat_0[:,1]/100],palette=['cyan','magenta','green'])\n"
     ]
    },
    {
     "data": {
      "image/png": "[encoded data removed]",
      "text/plain": [
       "<Figure size 1080x1080 with 4 Axes>"
      ]
     },
     "metadata": {
      "needs_background": "dark"
     },
     "output_type": "display_data"
    }
   ],
   "source": [
    "plt.figure(figsize=(15,15))\n",
    "plt.suptitle('Internal Comparison of Accuracy')\n",
    "\n",
    "plt.subplot(2,2,1)\n",
    "plt.title('None')\n",
    "sns.boxplot(data = [S_stat_0[:,1]/S_stat_0[:,0],A_stat_0[:,1]/100,T_stat_0[:,1]/100],palette=['cyan','magenta','green'])\n",
    "plt.xticks([0,1,2],['Stroop','Aiming','Tracking'])\n",
    "plt.ylabel('Accuracy')\n",
    "\n",
    "plt.subplot(2,2,2)\n",
    "plt.title('Gaming')\n",
    "sns.boxplot(data = [S_stat_1[:,1]/S_stat_1[:,0],A_stat_1[:,1]/100,T_stat_1[:,1]/100],palette=['cyan','magenta','green'])\n",
    "plt.xticks([0,1,2],['Stroop','Aiming','Tracking'])\n",
    "plt.ylabel('Accuracy')\n",
    "\n",
    "plt.subplot(2,2,3)\n",
    "plt.title('Sports')\n",
    "sns.boxplot(data = [S_stat_2[:,1]/S_stat_2[:,0],A_stat_2[:,1]/100,T_stat_2[:,1]/100],palette=['cyan','magenta','green'])\n",
    "plt.xticks([0,1,2],['Stroop','Aiming','Tracking'])\n",
    "plt.ylabel('Accuracy')\n",
    "\n",
    "plt.subplot(2,2,4)\n",
    "plt.title('Both')\n",
    "sns.boxplot(data = [S_stat_3[:,1]/S_stat_3[:,0],A_stat_3[:,1]/100,T_stat_3[:,1]/100],palette=['cyan','magenta','green'])\n",
    "plt.xticks([0,1,2],['Stroop','Aiming','Tracking'])\n",
    "plt.ylabel('Accuracy')\n",
    "\n",
    "plt.savefig('Comparison.png')"
   ]
  }
 ],
 "metadata": {
  "kernelspec": {
   "display_name": "Python 3.10.5 64-bit",
   "language": "python",
   "name": "python3"
  },
  "language_info": {
   "codemirror_mode": {
    "name": "ipython",
    "version": 3
   },
   "file_extension": ".py",
   "mimetype": "text/x-python",
   "name": "python",
   "nbconvert_exporter": "python",
   "pygments_lexer": "ipython3",
   "version": "3.10.5"
  },
  "orig_nbformat": 4,
  "vscode": {
   "interpreter": {
    "hash": "369f2c481f4da34e4445cda3fffd2e751bd1c4d706f27375911949ba6bb62e1c"
   }
  }
 },
 "nbformat": 4,
 "nbformat_minor": 2
}
